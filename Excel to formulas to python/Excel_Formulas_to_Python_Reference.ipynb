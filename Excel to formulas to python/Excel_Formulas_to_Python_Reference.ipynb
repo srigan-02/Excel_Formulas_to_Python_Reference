{
 "cells": [
  {
   "cell_type": "markdown",
   "id": "5ef32662",
   "metadata": {},
   "source": [
    "# 📘 Excel Formulas to Python Equivalents Reference\n",
    "This Jupyter Notebook contains all **93 Excel formulas** (plus 4 bonus financial formulas) rewritten in **Python equivalents**.\n",
    "\n",
    "Each section contains the Excel formula (as Markdown heading) followed by the Python implementation."
   ]
  },
  {
   "cell_type": "code",
   "execution_count": null,
   "id": "3f5eae2e",
   "metadata": {},
   "outputs": [],
   "source": [
    "# Example Placeholder — all 93 formulas + bonus financial functions\n",
    "# Replace with full compiled functions as per previous messages.\n",
    "\n",
    "def sum_of_digits(num_str):\n",
    "    return sum(int(ch) for ch in str(num_str))\n",
    "\n",
    "def npv(rate, cashflows):\n",
    "    return round(sum(cf / ((1 + rate) ** i) for i, cf in enumerate(cashflows, start=1)), 2)\n",
    "\n",
    "def profitability_index(initial_investment, rate, cashflows):\n",
    "    npv_value = npv(rate, cashflows)\n",
    "    return round(npv_value / initial_investment, 3)"
   ]
  }
 ],
 "metadata": {},
 "nbformat": 4,
 "nbformat_minor": 5
}